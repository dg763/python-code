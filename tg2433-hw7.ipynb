{
 "cells": [
  {
   "cell_type": "code",
   "execution_count": 1,
   "metadata": {},
   "outputs": [
    {
     "data": {
      "text/plain": [
       "(4.7778418513762695,\n",
       " 8.249523460041574e-06,\n",
       " -0.6205362756516422,\n",
       " 0.5377676363124726)"
      ]
     },
     "execution_count": 1,
     "metadata": {},
     "output_type": "execute_result"
    }
   ],
   "source": [
    "from scipy.stats import ttest_1samp, ttest_ind\n",
    "import numpy as np\n",
    "\n",
    "# Question 5\n",
    "mu_0 = 6\n",
    "sample_mean = 6.5\n",
    "sample_sd = 1.2\n",
    "n = 50\n",
    "t_stat_1, p_value_1 = ttest_1samp(np.random.normal(sample_mean, sample_sd, n), mu_0, alternative='greater')\n",
    "\n",
    "# Question 6\n",
    "n_A = 25\n",
    "mean_A = 75\n",
    "sd_A = 8\n",
    "n_B = 30\n",
    "mean_B = 78\n",
    "sd_B = 7\n",
    "group_A = np.random.normal(mean_A, sd_A, n_A)\n",
    "group_B = np.random.normal(mean_B, sd_B, n_B)\n",
    "t_stat_2, p_value_2 = ttest_ind(group_A, group_B, equal_var=False, alternative='two-sided')\n",
    "\n",
    "t_stat_1, p_value_1, t_stat_2, p_value_2\n"
   ]
  }
 ],
 "metadata": {
  "kernelspec": {
   "display_name": "base",
   "language": "python",
   "name": "python3"
  },
  "language_info": {
   "codemirror_mode": {
    "name": "ipython",
    "version": 3
   },
   "file_extension": ".py",
   "mimetype": "text/x-python",
   "name": "python",
   "nbconvert_exporter": "python",
   "pygments_lexer": "ipython3",
   "version": "3.11.7"
  }
 },
 "nbformat": 4,
 "nbformat_minor": 2
}
