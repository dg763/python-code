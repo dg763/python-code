{
 "cells": [
  {
   "cell_type": "code",
   "execution_count": null,
   "metadata": {},
   "outputs": [],
   "source": [
    "import pandas as pd\n",
    "\n",
    "# Load the dataset\n",
    "df = pd.read_csv('https://raw.githubusercontent.com/selva86/datasets/master/Cars93_miss.csv')\n",
    "\n",
    "# Select every 20th row starting from 0 and filter the specific columns\n",
    "filtered_df = df.iloc[::20][['Manufacturer', 'Model', 'Type']]\n"
   ]
  },
  {
   "cell_type": "code",
   "execution_count": null,
   "metadata": {},
   "outputs": [],
   "source": [
    "import pandas as pd\n",
    "\n",
    "# Load the dataset\n",
    "df = pd.read_csv('https://raw.githubusercontent.com/selva86/datasets/master/Cars93_miss.csv')\n",
    "\n",
    "# Replace missing values in 'Min.Price' with its mean\n",
    "df['Min.Price'].fillna(df['Min.Price'].mean(), inplace=True)\n",
    "\n",
    "# Replace missing values in 'Max.Price' with its mean\n",
    "df['Max.Price'].fillna(df['Max.Price'].mean(), inplace=True)\n"
   ]
  },
  {
   "cell_type": "code",
   "execution_count": null,
   "metadata": {},
   "outputs": [],
   "source": [
    "import pandas as pd\n",
    "import numpy as np\n",
    "\n",
    "# Create the dataframe\n",
    "df = pd.DataFrame(np.random.randint(10, 40, 60).reshape(-1, 4))\n",
    "\n",
    "# Filter rows where the sum is greater than 100\n",
    "filtered_rows = df[df.sum(axis=1) > 100]\n"
   ]
  },
  {
   "cell_type": "code",
   "execution_count": null,
   "metadata": {},
   "outputs": [],
   "source": [
    "import numpy as np\n",
    "\n",
    "# Create a 4x4 array with random integers from 1 to 100\n",
    "array_4x4 = np.random.randint(1, 101, size=(4, 4))\n",
    "\n",
    "# Function to calculate the sum of each row and each column\n",
    "def calculate_sums(arr):\n",
    "    row_sums = np.apply_along_axis(lambda x: np.sum(x), 1, arr)\n",
    "    col_sums = np.apply_along_axis(lambda x: np.sum(x), 0, arr)\n",
    "    return row_sums, col_sums\n",
    "\n",
    "row_sums, col_sums = calculate_sums(array_4x4)\n",
    "\n",
    "# Output the row sums and column sums\n",
    "print(\"Row sums:\", row_sums)\n",
    "print(\"Column sums:\", col_sums)\n"
   ]
  }
 ],
 "metadata": {
  "language_info": {
   "name": "python"
  }
 },
 "nbformat": 4,
 "nbformat_minor": 2
}
