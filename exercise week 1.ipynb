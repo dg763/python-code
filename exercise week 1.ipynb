{
 "cells": [
  {
   "cell_type": "code",
   "execution_count": null,
   "metadata": {},
   "outputs": [],
   "source": [
    "def count_vowels(word):\n",
    "    # Count the number of vowels in a given word.\n",
    "    vowels = 'aeiouAEIOU'\n",
    "    return sum(1 for letter in word if letter in vowels)\n",
    "\n",
    "def print_animals_in_caps(animals):\n",
    "    # Print each animal in the list in all uppercase.\n",
    "    for animal in animals:\n",
    "        print(animal.upper())\n",
    "\n",
    "def print_numbers_and_parity():\n",
    "    # Print numbers from 1 to 20 and their parity (odd or even).\n",
    "    for number in range(1, 21):\n",
    "        parity = \"odd\" if number % 2 != 0 else \"even\"\n",
    "        print(f\"{number} is {parity}\")\n",
    "\n",
    "def sum_of_integers(a, b):\n",
    "    # Return the sum of two integers.\n",
    "    return a + b\n",
    "\n",
    "# Test the functions\n",
    "vowel_count = count_vowels(\"hello\")\n",
    "animals = ['tiger', 'elephant', 'monkey', 'zebra', 'panther']\n",
    "\n",
    "print(\"Vowel count in 'hello':\", vowel_count)\n",
    "print(\"Animals in all caps:\")\n",
    "print_animals_in_caps(animals)\n",
    "print(\"Numbers from 1 to 20 with their parity:\")\n",
    "print_numbers_and_parity()\n",
    "sum_result = sum_of_integers(3, 7)\n",
    "print(\"Sum of 3 and 7:\", sum_result)\n"
   ]
  }
 ],
 "metadata": {
  "language_info": {
   "name": "python"
  }
 },
 "nbformat": 4,
 "nbformat_minor": 2
}
