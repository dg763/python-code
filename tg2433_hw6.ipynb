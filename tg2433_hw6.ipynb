{
 "cells": [
  {
   "cell_type": "code",
   "execution_count": 3,
   "metadata": {},
   "outputs": [
    {
     "name": "stdout",
     "output_type": "stream",
     "text": [
      "<class 'pandas.core.frame.DataFrame'>\n",
      "RangeIndex: 4277 entries, 0 to 4276\n",
      "Data columns (total 13 columns):\n",
      " #   Column                         Non-Null Count  Dtype  \n",
      "---  ------                         --------------  -----  \n",
      " 0   id                             4277 non-null   int64  \n",
      " 1   timestamp                      4277 non-null   object \n",
      " 2   country                        4277 non-null   object \n",
      " 3   employment_status              4277 non-null   object \n",
      " 4   job_title                      4277 non-null   object \n",
      " 5   job_years                      4277 non-null   float64\n",
      " 6   is_manager                     4277 non-null   object \n",
      " 7   hours_per_week                 4260 non-null   float64\n",
      " 8   telecommute_days_per_week      4266 non-null   float64\n",
      " 9   education                      4277 non-null   object \n",
      " 10  is_education_computer_related  4261 non-null   object \n",
      " 11  certifications                 4277 non-null   object \n",
      " 12  salary                         4277 non-null   float64\n",
      "dtypes: float64(4), int64(1), object(8)\n",
      "memory usage: 434.5+ KB\n"
     ]
    },
    {
     "data": {
      "text/plain": [
       "(   id            timestamp        country employment_status  job_title  \\\n",
       " 0   1  12/11/2018 10:52:26       Slovenia         Full time  Developer   \n",
       " 1   2    1/5/2017 16:57:50  United States         Full time        DBA   \n",
       " 2   3   12/18/2017 8:13:15         Sweden         Full time        DBA   \n",
       " 3   4   12/27/2018 4:56:52  United States         Full time        DBA   \n",
       " 4   5  12/11/2018 14:07:58  United States         Full time  Developer   \n",
       " \n",
       "    job_years is_manager  hours_per_week  telecommute_days_per_week  \\\n",
       " 0    4.78393        Yes            40.0                        0.0   \n",
       " 1    5.00000         No            40.0                        5.0   \n",
       " 2    1.00000         No            40.0                        0.0   \n",
       " 3    1.00000         No            40.0                        2.0   \n",
       " 4    3.00000         No            40.0                        2.0   \n",
       " \n",
       "              education is_education_computer_related certifications  \\\n",
       " 0  Bachelors (4 years)                           Yes             No   \n",
       " 1  Bachelors (4 years)                           Yes             No   \n",
       " 2              Masters                           Yes            Yes   \n",
       " 3  Bachelors (4 years)                            No             No   \n",
       " 4              Masters                           Yes            Yes   \n",
       " \n",
       "          salary  \n",
       " 0   7187.743094  \n",
       " 1  10000.000000  \n",
       " 2   7000.000000  \n",
       " 3   8333.000000  \n",
       " 4   7137.000000  ,\n",
       " None,\n",
       "                id    job_years  hours_per_week  telecommute_days_per_week  \\\n",
       " count  4277.00000  4277.000000     4260.000000                4266.000000   \n",
       " mean   2139.00000     4.479697       40.859110                   1.034927   \n",
       " std    1234.80788     1.990783        1.754911                   1.651160   \n",
       " min       1.00000     0.000000       37.000000                   0.000000   \n",
       " 25%    1070.00000     3.407156       40.000000                   0.000000   \n",
       " 50%    2139.00000     4.640830       40.000000                   0.000000   \n",
       " 75%    3208.00000     5.000000       41.114138                   1.000000   \n",
       " max    4277.00000    10.000000       45.000000                   5.000000   \n",
       " \n",
       "              salary  \n",
       " count   4277.000000  \n",
       " mean    7057.701984  \n",
       " std     1308.572568  \n",
       " min     3622.000000  \n",
       " 25%     6496.788236  \n",
       " 50%     7166.000000  \n",
       " 75%     7614.831964  \n",
       " max    10625.000000  )"
      ]
     },
     "execution_count": 3,
     "metadata": {},
     "output_type": "execute_result"
    }
   ],
   "source": [
    "import pandas as pd\n",
    "\n",
    "# Load the dataset\n",
    "file_path = r\"D:\\files\\employee.csv\"\n",
    "employee_data = pd.read_csv(file_path)\n",
    "\n",
    "# Display the first few rows of the dataset and its overall info\n",
    "employee_data.head(), employee_data.info(), employee_data.describe()"
   ]
  },
  {
   "cell_type": "code",
   "execution_count": 5,
   "metadata": {},
   "outputs": [
    {
     "data": {
      "text/plain": [
       "((3421, 101), (856, 101))"
      ]
     },
     "execution_count": 5,
     "metadata": {},
     "output_type": "execute_result"
    }
   ],
   "source": [
    "from sklearn.model_selection import train_test_split\n",
    "\n",
    "# Splitting the dataset into training and test sets\n",
    "X_train, X_test, y_train, y_test = train_test_split(X_encoded, y, test_size=0.2, random_state=42)\n",
    "X_train.shape, X_test.shape"
   ]
  },
  {
   "cell_type": "code",
   "execution_count": 6,
   "metadata": {},
   "outputs": [
    {
     "name": "stderr",
     "output_type": "stream",
     "text": [
      "c:\\anaconda\\anaconda3\\Lib\\site-packages\\sklearn\\preprocessing\\_encoders.py:868: FutureWarning: `sparse` was renamed to `sparse_output` in version 1.2 and will be removed in 1.4. `sparse_output` is ignored unless you leave `sparse` to its default value.\n",
      "  warnings.warn(\n"
     ]
    },
    {
     "data": {
      "text/plain": [
       "((3421, 101), (856, 101))"
      ]
     },
     "execution_count": 6,
     "metadata": {},
     "output_type": "execute_result"
    }
   ],
   "source": [
    "from sklearn.impute import SimpleImputer\n",
    "from sklearn.preprocessing import OneHotEncoder\n",
    "from sklearn.compose import ColumnTransformer\n",
    "\n",
    "# Re-implementing imputation and one-hot encoding with correct imports\n",
    "imputer = SimpleImputer(strategy='mean')\n",
    "employee_data['hours_per_week'] = imputer.fit_transform(employee_data[['hours_per_week']])\n",
    "employee_data['telecommute_days_per_week'] = imputer.fit_transform(employee_data[['telecommute_days_per_week']])\n",
    "\n",
    "# Assuming 'is_education_computer_related' can be filled with the mode\n",
    "mode_value = employee_data['is_education_computer_related'].mode()[0]\n",
    "employee_data['is_education_computer_related'].fillna(mode_value, inplace=True)\n",
    "\n",
    "# Define columns to be one-hot encoded\n",
    "categorical_cols = ['country', 'employment_status', 'job_title', 'is_manager', 'education', \n",
    "                    'is_education_computer_related', 'certifications']\n",
    "\n",
    "# Applying OneHotEncoder\n",
    "encoder = OneHotEncoder(drop='first', sparse=False)  # Dropping first to avoid dummy variable trap\n",
    "ct = ColumnTransformer(transformers=[('encoder', encoder, categorical_cols)], remainder='passthrough')\n",
    "\n",
    "# Preparing the features and target variable\n",
    "X = employee_data.drop(['id', 'timestamp', 'salary'], axis=1)\n",
    "y = employee_data['salary']\n",
    "\n",
    "# Fit and transform the feature data\n",
    "X_encoded = ct.fit_transform(X)\n",
    "\n",
    "# Splitting the dataset into training and test sets\n",
    "X_train, X_test, y_train, y_test = train_test_split(X_encoded, y, test_size=0.2, random_state=42)\n",
    "X_train.shape, X_test.shape\n"
   ]
  },
  {
   "cell_type": "code",
   "execution_count": 7,
   "metadata": {},
   "outputs": [
    {
     "data": {
      "text/plain": [
       "(6108345683095.598,\n",
       " 2.2814640509345217e+28,\n",
       " 867.2317673689096,\n",
       " 1341579.4476108407,\n",
       " 868.524102815066,\n",
       " 1344177.1025922527)"
      ]
     },
     "execution_count": 7,
     "metadata": {},
     "output_type": "execute_result"
    }
   ],
   "source": [
    "from sklearn.linear_model import LinearRegression, Ridge, Lasso\n",
    "from sklearn.metrics import mean_absolute_error, mean_squared_error\n",
    "\n",
    "# Linear Regression\n",
    "linear_model = LinearRegression()\n",
    "linear_model.fit(X_train, y_train)\n",
    "linear_predictions = linear_model.predict(X_test)\n",
    "linear_mae = mean_absolute_error(y_test, linear_predictions)\n",
    "linear_mse = mean_squared_error(y_test, linear_predictions)\n",
    "\n",
    "# Ridge Regression\n",
    "ridge_model = Ridge(alpha=1.0)\n",
    "ridge_model.fit(X_train, y_train)\n",
    "ridge_predictions = ridge_model.predict(X_test)\n",
    "ridge_mae = mean_absolute_error(y_test, ridge_predictions)\n",
    "ridge_mse = mean_squared_error(y_test, ridge_predictions)\n",
    "\n",
    "# Lasso Regression\n",
    "lasso_model = Lasso(alpha=0.1)\n",
    "lasso_model.fit(X_train, y_train)\n",
    "lasso_predictions = lasso_model.predict(X_test)\n",
    "lasso_mae = mean_absolute_error(y_test, lasso_predictions)\n",
    "lasso_mse = mean_squared_error(y_test, lasso_predictions)\n",
    "\n",
    "linear_mae, linear_mse, ridge_mae, ridge_mse, lasso_mae, lasso_mse\n"
   ]
  }
 ],
 "metadata": {
  "kernelspec": {
   "display_name": "base",
   "language": "python",
   "name": "python3"
  },
  "language_info": {
   "codemirror_mode": {
    "name": "ipython",
    "version": 3
   },
   "file_extension": ".py",
   "mimetype": "text/x-python",
   "name": "python",
   "nbconvert_exporter": "python",
   "pygments_lexer": "ipython3",
   "version": "3.11.7"
  }
 },
 "nbformat": 4,
 "nbformat_minor": 2
}
